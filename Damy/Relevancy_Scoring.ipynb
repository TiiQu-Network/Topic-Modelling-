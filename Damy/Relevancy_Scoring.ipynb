{
 "cells": [
  {
   "cell_type": "code",
   "execution_count": 77,
   "id": "a846d6dc",
   "metadata": {},
   "outputs": [],
   "source": [
    "import pandas as pd\n",
    "import numpy as np\n",
    "import string\n",
    "import scipy\n",
    "import sklearn\n",
    "import spacy\n",
    "import nltk\n",
    "import re\n",
    "import os"
   ]
  },
  {
   "cell_type": "code",
   "execution_count": 78,
   "id": "961728f0",
   "metadata": {},
   "outputs": [],
   "source": [
    "from nltk import word_tokenize\n",
    "from nltk.corpus import stopwords\n",
    "from sklearn.metrics.pairwise import cosine_similarity\n",
    "from sentence_transformers import SentenceTransformer, util"
   ]
  },
  {
   "cell_type": "code",
   "execution_count": 79,
   "id": "253ecb97",
   "metadata": {},
   "outputs": [],
   "source": [
    "df = pd.read_csv(r\"C:\\Users\\RedHat\\Downloads\\Tiiqu\\Sample_Data_with_Keywords.csv\")"
   ]
  },
  {
   "cell_type": "code",
   "execution_count": 80,
   "id": "b4506010",
   "metadata": {},
   "outputs": [],
   "source": [
    "#df"
   ]
  },
  {
   "cell_type": "code",
   "execution_count": 81,
   "id": "5ea89d7a",
   "metadata": {},
   "outputs": [],
   "source": [
    "folder_path = r'C:\\Users\\RedHat\\Downloads\\Tiiqu\\Subtopics'\n",
    "subtopic_df = read_csv_files_in_folder(folder_path)"
   ]
  },
  {
   "cell_type": "code",
   "execution_count": 82,
   "id": "ac3ce5a5",
   "metadata": {
    "scrolled": true
   },
   "outputs": [],
   "source": [
    "#subtopic_df"
   ]
  },
  {
   "cell_type": "code",
   "execution_count": 83,
   "id": "ed1256d4",
   "metadata": {},
   "outputs": [],
   "source": [
    "model = SentenceTransformer(\"BAAI/bge-small-en-v1.5\")"
   ]
  },
  {
   "cell_type": "code",
   "execution_count": 84,
   "id": "718c7119",
   "metadata": {},
   "outputs": [],
   "source": [
    "df['Keywords_Emb'] = df['Keywords'].apply(lambda x: model.encode(x))"
   ]
  },
  {
   "cell_type": "code",
   "execution_count": 85,
   "id": "6889c7f6",
   "metadata": {},
   "outputs": [],
   "source": [
    "subtopic_df['Kywds_Emb'] = subtopic_df['Keywords'].apply(lambda x: model.encode(x))"
   ]
  },
  {
   "cell_type": "code",
   "execution_count": 86,
   "id": "365c4aa3",
   "metadata": {},
   "outputs": [],
   "source": [
    "def find_most_relevant_qna(subtopic_index, subtopic_df, qna_df):\n",
    "    \n",
    "    # Extract the vector embedding of the given subtopic index\n",
    "    subtopic_index_embedding = subtopic_df.loc[subtopic_index, 'Kywds_Emb']\n",
    "    \n",
    "    subtopic = subtopic_df.loc[subtopic_index, 'Terminology']\n",
    "    \n",
    "    # Get vector embeddings for QnA pairs in the QnA DataFrame\n",
    "    qna_embeddings = qna_df['Keywords_Emb'].tolist()\n",
    "    \n",
    "    # Compute cosine similarity between the query subtopic and all QnA pairs\n",
    "    similarities = cosine_similarity([subtopic_index_embedding], qna_embeddings)\n",
    "    \n",
    "    # Get the indices of top 5 most similar QnA pairs\n",
    "    top_indices = similarities.argsort()[0][::-1][:5]\n",
    "    \n",
    "    # Extract top similar QnA pairs along with their similarity scores\n",
    "    top_similar_qna = qna_df.iloc[top_indices][['Question', 'Answer']]\n",
    "    top_similar_qna['Relevancy Score'] = similarities[0][top_indices]\n",
    "\n",
    "    print(subtopic)\n",
    "    \n",
    "    return top_similar_qna"
   ]
  },
  {
   "cell_type": "code",
   "execution_count": 87,
   "id": "81309438",
   "metadata": {},
   "outputs": [
    {
     "name": "stdout",
     "output_type": "stream",
     "text": [
      "Traveler Information Systems\n"
     ]
    },
    {
     "data": {
      "text/html": [
       "<div>\n",
       "<style scoped>\n",
       "    .dataframe tbody tr th:only-of-type {\n",
       "        vertical-align: middle;\n",
       "    }\n",
       "\n",
       "    .dataframe tbody tr th {\n",
       "        vertical-align: top;\n",
       "    }\n",
       "\n",
       "    .dataframe thead th {\n",
       "        text-align: right;\n",
       "    }\n",
       "</style>\n",
       "<table border=\"1\" class=\"dataframe\">\n",
       "  <thead>\n",
       "    <tr style=\"text-align: right;\">\n",
       "      <th></th>\n",
       "      <th>Question</th>\n",
       "      <th>Answer</th>\n",
       "      <th>Relevancy Score</th>\n",
       "    </tr>\n",
       "  </thead>\n",
       "  <tbody>\n",
       "    <tr>\n",
       "      <th>2807</th>\n",
       "      <td>How can efficient data analytics help in manag...</td>\n",
       "      <td>Efficient data analytics can help in the real-...</td>\n",
       "      <td>0.887280</td>\n",
       "    </tr>\n",
       "    <tr>\n",
       "      <th>1771</th>\n",
       "      <td>How can a detailed digital map and real-time t...</td>\n",
       "      <td>A detailed digital map and real-time traffic a...</td>\n",
       "      <td>0.865381</td>\n",
       "    </tr>\n",
       "    <tr>\n",
       "      <th>2955</th>\n",
       "      <td>What is the purpose of the Real-Time Traffic P...</td>\n",
       "      <td>The purpose is to collect and analyse traffic ...</td>\n",
       "      <td>0.841836</td>\n",
       "    </tr>\n",
       "    <tr>\n",
       "      <th>3700</th>\n",
       "      <td>What are some applications of big data analyti...</td>\n",
       "      <td>Big data analytics can be used for traffic rou...</td>\n",
       "      <td>0.839652</td>\n",
       "    </tr>\n",
       "    <tr>\n",
       "      <th>2724</th>\n",
       "      <td>What is the purpose of the dynamic intelligent...</td>\n",
       "      <td>The purpose of the proposed system is to accep...</td>\n",
       "      <td>0.834814</td>\n",
       "    </tr>\n",
       "  </tbody>\n",
       "</table>\n",
       "</div>"
      ],
      "text/plain": [
       "                                               Question  \\\n",
       "2807  How can efficient data analytics help in manag...   \n",
       "1771  How can a detailed digital map and real-time t...   \n",
       "2955  What is the purpose of the Real-Time Traffic P...   \n",
       "3700  What are some applications of big data analyti...   \n",
       "2724  What is the purpose of the dynamic intelligent...   \n",
       "\n",
       "                                                 Answer  Relevancy Score  \n",
       "2807  Efficient data analytics can help in the real-...         0.887280  \n",
       "1771  A detailed digital map and real-time traffic a...         0.865381  \n",
       "2955  The purpose is to collect and analyse traffic ...         0.841836  \n",
       "3700  Big data analytics can be used for traffic rou...         0.839652  \n",
       "2724  The purpose of the proposed system is to accep...         0.834814  "
      ]
     },
     "execution_count": 87,
     "metadata": {},
     "output_type": "execute_result"
    }
   ],
   "source": [
    "subtopic_index = 200\n",
    "top_similar_qna = find_most_relevant_qna(subtopic_index, subtopic_df, df)\n",
    "top_similar_qna"
   ]
  }
 ],
 "metadata": {
  "kernelspec": {
   "display_name": "Python 3 (ipykernel)",
   "language": "python",
   "name": "python3"
  },
  "language_info": {
   "codemirror_mode": {
    "name": "ipython",
    "version": 3
   },
   "file_extension": ".py",
   "mimetype": "text/x-python",
   "name": "python",
   "nbconvert_exporter": "python",
   "pygments_lexer": "ipython3",
   "version": "3.9.13"
  }
 },
 "nbformat": 4,
 "nbformat_minor": 5
}
