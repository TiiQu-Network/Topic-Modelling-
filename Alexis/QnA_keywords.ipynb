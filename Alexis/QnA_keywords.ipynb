{
 "cells": [
  {
   "cell_type": "markdown",
   "metadata": {},
   "source": [
    "# Keywords Extraction"
   ]
  },
  {
   "cell_type": "code",
   "execution_count": 1,
   "metadata": {},
   "outputs": [],
   "source": [
    "import pandas as pd\n",
    "import yake"
   ]
  },
  {
   "cell_type": "code",
   "execution_count": 2,
   "metadata": {},
   "outputs": [
    {
     "data": {
      "text/plain": [
       "'What is the main purpose of this paper? The main purpose of this paper is to present an integrated value model for a sustainability assessment of residential solar energy systems (Rests) dedicated to energy generation and aimed at reducing air pollution in urban areas.'"
      ]
     },
     "execution_count": 2,
     "metadata": {},
     "output_type": "execute_result"
    }
   ],
   "source": [
    "#dir = 'github/datasets/QnA_Biomass_f1000_20230717_cleaned.csv'\n",
    "dir = 'github/datasets/solar_panel.csv'\n",
    "df = pd.read_csv( f'{dir}', encoding='utf8')\n",
    "df.head()\n",
    "df['text'] = df['Question'] + ' ' + df['Answer']\n",
    "df['text'].loc[0]"
   ]
  },
  {
   "cell_type": "code",
   "execution_count": 3,
   "metadata": {},
   "outputs": [
    {
     "data": {
      "text/html": [
       "<div>\n",
       "<style scoped>\n",
       "    .dataframe tbody tr th:only-of-type {\n",
       "        vertical-align: middle;\n",
       "    }\n",
       "\n",
       "    .dataframe tbody tr th {\n",
       "        vertical-align: top;\n",
       "    }\n",
       "\n",
       "    .dataframe thead th {\n",
       "        text-align: right;\n",
       "    }\n",
       "</style>\n",
       "<table border=\"1\" class=\"dataframe\">\n",
       "  <thead>\n",
       "    <tr style=\"text-align: right;\">\n",
       "      <th></th>\n",
       "      <th>id</th>\n",
       "      <th>Question</th>\n",
       "      <th>Answer</th>\n",
       "      <th>text</th>\n",
       "    </tr>\n",
       "  </thead>\n",
       "  <tbody>\n",
       "    <tr>\n",
       "      <th>0</th>\n",
       "      <td>1</td>\n",
       "      <td>What is the main purpose of this paper?</td>\n",
       "      <td>The main purpose of this paper is to present a...</td>\n",
       "      <td>What is the main purpose of this paper? The ma...</td>\n",
       "    </tr>\n",
       "    <tr>\n",
       "      <th>1</th>\n",
       "      <td>2</td>\n",
       "      <td>What are the keywords associated with this paper?</td>\n",
       "      <td>The keywords associated with this paper are Re...</td>\n",
       "      <td>What are the keywords associated with this pap...</td>\n",
       "    </tr>\n",
       "    <tr>\n",
       "      <th>2</th>\n",
       "      <td>3</td>\n",
       "      <td>What is GIVES?</td>\n",
       "      <td>GIVES stands for the integrated value model fo...</td>\n",
       "      <td>What is GIVES? GIVES stands for the integrated...</td>\n",
       "    </tr>\n",
       "    <tr>\n",
       "      <th>3</th>\n",
       "      <td>4</td>\n",
       "      <td>What is the advantage of PV/T over PV?</td>\n",
       "      <td>PV/T is a better solution when stakeholders ar...</td>\n",
       "      <td>What is the advantage of PV/T over PV? PV/T is...</td>\n",
       "    </tr>\n",
       "    <tr>\n",
       "      <th>4</th>\n",
       "      <td>7</td>\n",
       "      <td>What are the measures necessary to reduce ener...</td>\n",
       "      <td>Reducing energy needs with measures such as le...</td>\n",
       "      <td>What are the measures necessary to reduce ener...</td>\n",
       "    </tr>\n",
       "  </tbody>\n",
       "</table>\n",
       "</div>"
      ],
      "text/plain": [
       "   id                                           Question  \\\n",
       "0   1            What is the main purpose of this paper?   \n",
       "1   2  What are the keywords associated with this paper?   \n",
       "2   3                                     What is GIVES?   \n",
       "3   4             What is the advantage of PV/T over PV?   \n",
       "4   7  What are the measures necessary to reduce ener...   \n",
       "\n",
       "                                              Answer  \\\n",
       "0  The main purpose of this paper is to present a...   \n",
       "1  The keywords associated with this paper are Re...   \n",
       "2  GIVES stands for the integrated value model fo...   \n",
       "3  PV/T is a better solution when stakeholders ar...   \n",
       "4  Reducing energy needs with measures such as le...   \n",
       "\n",
       "                                                text  \n",
       "0  What is the main purpose of this paper? The ma...  \n",
       "1  What are the keywords associated with this pap...  \n",
       "2  What is GIVES? GIVES stands for the integrated...  \n",
       "3  What is the advantage of PV/T over PV? PV/T is...  \n",
       "4  What are the measures necessary to reduce ener...  "
      ]
     },
     "execution_count": 3,
     "metadata": {},
     "output_type": "execute_result"
    }
   ],
   "source": [
    "df.head()"
   ]
  },
  {
   "cell_type": "code",
   "execution_count": 4,
   "metadata": {},
   "outputs": [],
   "source": [
    "#number = random.randint(0,10000)\n",
    "all_keywords = []\n",
    "\n",
    "for i in range(0,len(df['text'])):\n",
    "  kw_extractor = yake.KeywordExtractor()\n",
    "  text = df['text'].loc[i]\n",
    "  language = \"en\"\n",
    "  max_ngram_size = 1 \n",
    "  deduplication_threshold = 0.5 # this is to avoid repetition of keywords\n",
    "  numOfKeywords = 10\n",
    "  custom_kw_extractor = yake.KeywordExtractor(lan=language, n=max_ngram_size, dedupLim=deduplication_threshold, top=numOfKeywords, features=None)\n",
    "  keywords = custom_kw_extractor.extract_keywords(text)\n",
    "  list_keywords = ''\n",
    "  for k in range(0,len(keywords)):\n",
    "    # Lemmatize inside this for!!!!!!!!!!!!!!!!!!!!!!\n",
    "    list_keywords += str(keywords[k][0]) + ', '\n",
    "  all_keywords.append(list_keywords)  "
   ]
  },
  {
   "cell_type": "code",
   "execution_count": 5,
   "metadata": {},
   "outputs": [],
   "source": [
    "#number = random.randint(0,10000)\n",
    "all_topics = []\n",
    "\n",
    "for i in range(0,len(df['text'])):\n",
    "  kw_extractor = yake.KeywordExtractor()\n",
    "  text = df['text'].loc[i]\n",
    "  language = \"en\"\n",
    "  max_ngram_size = 2 #4\n",
    "  deduplication_threshold = 0.9 # this is to avoid repetition of keywords\n",
    "  deduplication_algo = 'seqm' # Duplication algorthm can eb 'leve, jaro, seqm'\n",
    "  numOfKeywords = 1 \n",
    "  custom_kw_extractor = yake.KeywordExtractor(lan=language, n=max_ngram_size, dedupLim=deduplication_threshold, top=numOfKeywords, features=None)\n",
    "  keywords = custom_kw_extractor.extract_keywords(text)\n",
    "  if len(keywords)>0:\n",
    "    all_topics.append(str(keywords[0][0]))\n",
    "  else:\n",
    "    all_topics.append('')    \n"
   ]
  },
  {
   "cell_type": "code",
   "execution_count": 8,
   "metadata": {},
   "outputs": [],
   "source": [
    "df['Topic'] = all_topics\n",
    "df['Keywords'] = all_keywords\n",
    "#df_keywords = df.drop(columns=['Title', 'DOI', 'Authors', 'Full_Text_URL', 'Paragraph', 'text'])\n",
    "#df_keywords.to_csv('keywords.csv')\n",
    "df = df.drop(columns=['text'])\n",
    "df.to_csv('solar_panel_keywords.csv')"
   ]
  },
  {
   "cell_type": "code",
   "execution_count": 8,
   "metadata": {},
   "outputs": [
    {
     "data": {
      "text/plain": [
       "'The two CO2 treatments were conducted simultaneously in separate greenhouses with identical design and dimensions; one with ambient CO2 (360 MOL mol-1) and the other with elevated CO2 (650 MOL mol-1).'"
      ]
     },
     "execution_count": 8,
     "metadata": {},
     "output_type": "execute_result"
    }
   ],
   "source": [
    "df_keywords['Answer'].loc[4]"
   ]
  },
  {
   "cell_type": "markdown",
   "metadata": {},
   "source": [
    "**Lemmatize after keywords have been obtained**\n",
    "\n",
    "It seems that 'to_csv' breaks the column when it reads a semicolon ;"
   ]
  },
  {
   "cell_type": "code",
   "execution_count": 60,
   "metadata": {},
   "outputs": [],
   "source": [
    "import nltk\n",
    "from nltk.stem import WordNetLemmatizer"
   ]
  },
  {
   "cell_type": "code",
   "execution_count": 93,
   "metadata": {},
   "outputs": [
    {
     "name": "stdout",
     "output_type": "stream",
     "text": [
      "spectral characterization FT-IR absorbance band peaks functional groups assigned presence \n"
     ]
    },
    {
     "data": {
      "text/plain": [
       "['spectral',\n",
       " 'characterization',\n",
       " 'FT-IR',\n",
       " 'absorbance',\n",
       " 'band',\n",
       " 'peaks',\n",
       " 'functional',\n",
       " 'groups',\n",
       " 'assigned',\n",
       " 'presence']"
      ]
     },
     "execution_count": 93,
     "metadata": {},
     "output_type": "execute_result"
    }
   ],
   "source": [
    "text = df['Keywords'].loc[718].replace(',','')\n",
    "print(text)\n",
    "list = nltk.word_tokenize(text)\n",
    "list"
   ]
  },
  {
   "cell_type": "code",
   "execution_count": 94,
   "metadata": {},
   "outputs": [
    {
     "name": "stdout",
     "output_type": "stream",
     "text": [
      "['spectral', 'characterization', 'FT-IR', 'absorbance', 'band', 'peak', 'functional', 'group', 'assigned', 'presence']\n"
     ]
    }
   ],
   "source": [
    "lemmatizer = [WordNetLemmatizer().lemmatize(plural) for plural in list]\n",
    "print(lemmatizer)"
   ]
  },
  {
   "cell_type": "code",
   "execution_count": 95,
   "metadata": {},
   "outputs": [
    {
     "data": {
      "text/plain": [
       "'spectral characterization FT-IR absorbance band peaks functional groups assigned presence '"
      ]
     },
     "execution_count": 95,
     "metadata": {},
     "output_type": "execute_result"
    }
   ],
   "source": [
    "text"
   ]
  },
  {
   "cell_type": "code",
   "execution_count": 96,
   "metadata": {},
   "outputs": [],
   "source": [
    "keys_lemm = str(lemmatizer)\n",
    "keys_lemm = keys_lemm.replace('[','')\n",
    "keys_lemm = keys_lemm.replace(']','')\n",
    "keys_lemm = keys_lemm.replace(\"'\",'')"
   ]
  },
  {
   "cell_type": "code",
   "execution_count": 97,
   "metadata": {},
   "outputs": [
    {
     "name": "stdout",
     "output_type": "stream",
     "text": [
      "spectral, characterization, FT-IR, absorbance, band, peak, functional, group, assigned, presence\n"
     ]
    }
   ],
   "source": [
    "print(keys_lemm)"
   ]
  },
  {
   "cell_type": "code",
   "execution_count": null,
   "metadata": {},
   "outputs": [],
   "source": []
  }
 ],
 "metadata": {
  "kernelspec": {
   "display_name": "Python 3",
   "language": "python",
   "name": "python3"
  },
  "language_info": {
   "codemirror_mode": {
    "name": "ipython",
    "version": 3
   },
   "file_extension": ".py",
   "mimetype": "text/x-python",
   "name": "python",
   "nbconvert_exporter": "python",
   "pygments_lexer": "ipython3",
   "version": "3.10.12"
  },
  "orig_nbformat": 4
 },
 "nbformat": 4,
 "nbformat_minor": 2
}
