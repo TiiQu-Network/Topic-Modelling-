{
 "cells": [
  {
   "cell_type": "code",
   "execution_count": 1,
   "id": "4bf3f059",
   "metadata": {},
   "outputs": [],
   "source": [
    "input_path = r\"C:\\Users\\sankr\\Documents\\projects\\git_work\\nlp\\data\\source\\tiiqu_qna_data.xlsx\""
   ]
  },
  {
   "cell_type": "code",
   "execution_count": 2,
   "id": "e6972eb9",
   "metadata": {},
   "outputs": [],
   "source": [
    "import pandas as pd"
   ]
  },
  {
   "cell_type": "raw",
   "id": "9cce55bb",
   "metadata": {},
   "source": [
    "!pip install openpyxl"
   ]
  },
  {
   "cell_type": "code",
   "execution_count": 3,
   "id": "dfde3a2d",
   "metadata": {},
   "outputs": [],
   "source": [
    "xl = pd.ExcelFile(input_path)"
   ]
  },
  {
   "cell_type": "code",
   "execution_count": 4,
   "id": "e78d4abd",
   "metadata": {},
   "outputs": [],
   "source": [
    "def clean_answers(s):\n",
    "    if len(s) and not s.isdigit():\n",
    "        s = str(s[0]).replace(\"-\", \"\") + s[1:]\n",
    "        s = \"- \" + s\n",
    "    elif s.isdigit():\n",
    "        s = \" -\" + s\n",
    "    return s  "
   ]
  },
  {
   "cell_type": "code",
   "execution_count": 5,
   "id": "d682989c",
   "metadata": {},
   "outputs": [],
   "source": [
    "def combine_dataframe(sheet_name, xl, provenence_dict):\n",
    "    \n",
    "    df = xl.parse(sheet_name)\n",
    "    df.columns = [\"page\", \"link\", \"question\", \"answer\", \"label\"]\n",
    "    df[\"page\"] = df.page[0].strip()\n",
    "    provenence_dict[df.page[0]] = df.link[0].strip()\n",
    "    df.drop(columns=\"link\", inplace=True)\n",
    "    df.drop(df[df.question.isna() & df.answer.isna()].index, inplace=True)\n",
    "    df.reset_index(drop=True, inplace=True)\n",
    "    df.question.fillna(\"\", inplace=True)\n",
    "    df.answer.fillna(\"\", inplace=True)\n",
    "    df.answer = df.answer.astype(str)\n",
    "    df.answer = df.answer.apply(clean_answers)\n",
    "    df[\"combined_text\"] = df.apply(lambda row: f\"{row['question']}{row['answer']}\", axis=1)\n",
    "    return df    "
   ]
  },
  {
   "cell_type": "code",
   "execution_count": 6,
   "id": "350a3383",
   "metadata": {
    "scrolled": true
   },
   "outputs": [],
   "source": [
    "provenence_dict = dict()\n",
    "df = []\n",
    "\n",
    "for sheet in xl.sheet_names:\n",
    "    if sheet not in {\"brief\", \".....\"}:\n",
    "        df.append(combine_dataframe(sheet, xl, provenence_dict))"
   ]
  },
  {
   "cell_type": "code",
   "execution_count": 7,
   "id": "81f1ab1c",
   "metadata": {},
   "outputs": [],
   "source": [
    "df = pd.concat(df)"
   ]
  },
  {
   "cell_type": "code",
   "execution_count": 10,
   "id": "2f9ecdce",
   "metadata": {},
   "outputs": [
    {
     "ename": "SyntaxError",
     "evalue": "(unicode error) 'unicodeescape' codec can't decode bytes in position 2-3: truncated \\UXXXXXXXX escape (1131044790.py, line 2)",
     "output_type": "error",
     "traceback": [
      "\u001b[1;36m  Cell \u001b[1;32mIn[10], line 2\u001b[1;36m\u001b[0m\n\u001b[1;33m    os.makedirs(\"C:\\Users\\sankr\\Documents\\projects\\git_work\\nlp\\data\\dag\")\u001b[0m\n\u001b[1;37m                                                                         ^\u001b[0m\n\u001b[1;31mSyntaxError\u001b[0m\u001b[1;31m:\u001b[0m (unicode error) 'unicodeescape' codec can't decode bytes in position 2-3: truncated \\UXXXXXXXX escape\n"
     ]
    }
   ],
   "source": [
    "import os\n",
    "os.makedirs(\"C:\\Users\\sankr\\Documents\\projects\\git_work\\nlp\\data\\dag\")\n",
    "df.to_pickle(\"C:\\Users\\sankr\\Documents\\projects\\git_work\\nlp\\data\\dagdata_dump.pkl\")"
   ]
  },
  {
   "cell_type": "code",
   "execution_count": null,
   "id": "4d6c37e1",
   "metadata": {},
   "outputs": [],
   "source": []
  }
 ],
 "metadata": {
  "kernelspec": {
   "display_name": "Python 3 (ipykernel)",
   "language": "python",
   "name": "python3"
  },
  "language_info": {
   "codemirror_mode": {
    "name": "ipython",
    "version": 3
   },
   "file_extension": ".py",
   "mimetype": "text/x-python",
   "name": "python",
   "nbconvert_exporter": "python",
   "pygments_lexer": "ipython3",
   "version": "3.9.15"
  }
 },
 "nbformat": 4,
 "nbformat_minor": 5
}
